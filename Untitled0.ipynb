{
  "nbformat": 4,
  "nbformat_minor": 0,
  "metadata": {
    "colab": {
      "provenance": [],
      "gpuType": "T4",
      "authorship_tag": "ABX9TyPDQo99cu67KBy5Pm+b59wE",
      "include_colab_link": true
    },
    "kernelspec": {
      "name": "python3",
      "display_name": "Python 3"
    },
    "language_info": {
      "name": "python"
    },
    "accelerator": "GPU"
  },
  "cells": [
    {
      "cell_type": "markdown",
      "metadata": {
        "id": "view-in-github",
        "colab_type": "text"
      },
      "source": [
        "<a href=\"https://colab.research.google.com/github/AtulC137/Web-Scrapping-using-Multithreading-for-jobs-and-analysis/blob/main/Untitled0.ipynb\" target=\"_parent\"><img src=\"https://colab.research.google.com/assets/colab-badge.svg\" alt=\"Open In Colab\"/></a>"
      ]
    },
    {
      "cell_type": "code",
      "execution_count": null,
      "metadata": {
        "colab": {
          "base_uri": "https://localhost:8080/"
        },
        "id": "N-h2aWlxNRRc",
        "outputId": "5a3dc248-3cc0-4890-fca4-b93fff78c2ac"
      },
      "outputs": [
        {
          "output_type": "stream",
          "name": "stdout",
          "text": [
            "Requirement already satisfied: requests in /usr/local/lib/python3.11/dist-packages (2.32.3)\n",
            "Requirement already satisfied: beautifulsoup4 in /usr/local/lib/python3.11/dist-packages (4.13.4)\n",
            "Requirement already satisfied: lxml in /usr/local/lib/python3.11/dist-packages (5.4.0)\n",
            "Requirement already satisfied: pandas in /usr/local/lib/python3.11/dist-packages (2.2.2)\n",
            "Requirement already satisfied: openpyxl in /usr/local/lib/python3.11/dist-packages (3.1.5)\n",
            "Requirement already satisfied: python-dateutil in /usr/local/lib/python3.11/dist-packages (2.9.0.post0)\n",
            "Requirement already satisfied: charset-normalizer<4,>=2 in /usr/local/lib/python3.11/dist-packages (from requests) (3.4.2)\n",
            "Requirement already satisfied: idna<4,>=2.5 in /usr/local/lib/python3.11/dist-packages (from requests) (3.10)\n",
            "Requirement already satisfied: urllib3<3,>=1.21.1 in /usr/local/lib/python3.11/dist-packages (from requests) (2.5.0)\n",
            "Requirement already satisfied: certifi>=2017.4.17 in /usr/local/lib/python3.11/dist-packages (from requests) (2025.8.3)\n",
            "Requirement already satisfied: soupsieve>1.2 in /usr/local/lib/python3.11/dist-packages (from beautifulsoup4) (2.7)\n",
            "Requirement already satisfied: typing-extensions>=4.0.0 in /usr/local/lib/python3.11/dist-packages (from beautifulsoup4) (4.14.1)\n",
            "Requirement already satisfied: numpy>=1.23.2 in /usr/local/lib/python3.11/dist-packages (from pandas) (2.0.2)\n",
            "Requirement already satisfied: pytz>=2020.1 in /usr/local/lib/python3.11/dist-packages (from pandas) (2025.2)\n",
            "Requirement already satisfied: tzdata>=2022.7 in /usr/local/lib/python3.11/dist-packages (from pandas) (2025.2)\n",
            "Requirement already satisfied: et-xmlfile in /usr/local/lib/python3.11/dist-packages (from openpyxl) (2.0.0)\n",
            "Requirement already satisfied: six>=1.5 in /usr/local/lib/python3.11/dist-packages (from python-dateutil) (1.17.0)\n"
          ]
        }
      ],
      "source": [
        "!pip install requests beautifulsoup4 lxml pandas openpyxl python-dateutil"
      ]
    },
    {
      "cell_type": "code",
      "source": [
        "from google.colab import files\n",
        "uploaded = files.upload()  # choose internship.xlsx from your PC"
      ],
      "metadata": {
        "colab": {
          "base_uri": "https://localhost:8080/",
          "height": 90
        },
        "id": "gfa_YK3XN5X1",
        "outputId": "8a44385d-9934-4683-edb1-24defa23e9b8"
      },
      "execution_count": null,
      "outputs": [
        {
          "output_type": "display_data",
          "data": {
            "text/plain": [
              "<IPython.core.display.HTML object>"
            ],
            "text/html": [
              "\n",
              "     <input type=\"file\" id=\"files-0daff7bb-f3a8-49f0-9d36-96ab50eb8fa3\" name=\"files[]\" multiple disabled\n",
              "        style=\"border:none\" />\n",
              "     <output id=\"result-0daff7bb-f3a8-49f0-9d36-96ab50eb8fa3\">\n",
              "      Upload widget is only available when the cell has been executed in the\n",
              "      current browser session. Please rerun this cell to enable.\n",
              "      </output>\n",
              "      <script>// Copyright 2017 Google LLC\n",
              "//\n",
              "// Licensed under the Apache License, Version 2.0 (the \"License\");\n",
              "// you may not use this file except in compliance with the License.\n",
              "// You may obtain a copy of the License at\n",
              "//\n",
              "//      http://www.apache.org/licenses/LICENSE-2.0\n",
              "//\n",
              "// Unless required by applicable law or agreed to in writing, software\n",
              "// distributed under the License is distributed on an \"AS IS\" BASIS,\n",
              "// WITHOUT WARRANTIES OR CONDITIONS OF ANY KIND, either express or implied.\n",
              "// See the License for the specific language governing permissions and\n",
              "// limitations under the License.\n",
              "\n",
              "/**\n",
              " * @fileoverview Helpers for google.colab Python module.\n",
              " */\n",
              "(function(scope) {\n",
              "function span(text, styleAttributes = {}) {\n",
              "  const element = document.createElement('span');\n",
              "  element.textContent = text;\n",
              "  for (const key of Object.keys(styleAttributes)) {\n",
              "    element.style[key] = styleAttributes[key];\n",
              "  }\n",
              "  return element;\n",
              "}\n",
              "\n",
              "// Max number of bytes which will be uploaded at a time.\n",
              "const MAX_PAYLOAD_SIZE = 100 * 1024;\n",
              "\n",
              "function _uploadFiles(inputId, outputId) {\n",
              "  const steps = uploadFilesStep(inputId, outputId);\n",
              "  const outputElement = document.getElementById(outputId);\n",
              "  // Cache steps on the outputElement to make it available for the next call\n",
              "  // to uploadFilesContinue from Python.\n",
              "  outputElement.steps = steps;\n",
              "\n",
              "  return _uploadFilesContinue(outputId);\n",
              "}\n",
              "\n",
              "// This is roughly an async generator (not supported in the browser yet),\n",
              "// where there are multiple asynchronous steps and the Python side is going\n",
              "// to poll for completion of each step.\n",
              "// This uses a Promise to block the python side on completion of each step,\n",
              "// then passes the result of the previous step as the input to the next step.\n",
              "function _uploadFilesContinue(outputId) {\n",
              "  const outputElement = document.getElementById(outputId);\n",
              "  const steps = outputElement.steps;\n",
              "\n",
              "  const next = steps.next(outputElement.lastPromiseValue);\n",
              "  return Promise.resolve(next.value.promise).then((value) => {\n",
              "    // Cache the last promise value to make it available to the next\n",
              "    // step of the generator.\n",
              "    outputElement.lastPromiseValue = value;\n",
              "    return next.value.response;\n",
              "  });\n",
              "}\n",
              "\n",
              "/**\n",
              " * Generator function which is called between each async step of the upload\n",
              " * process.\n",
              " * @param {string} inputId Element ID of the input file picker element.\n",
              " * @param {string} outputId Element ID of the output display.\n",
              " * @return {!Iterable<!Object>} Iterable of next steps.\n",
              " */\n",
              "function* uploadFilesStep(inputId, outputId) {\n",
              "  const inputElement = document.getElementById(inputId);\n",
              "  inputElement.disabled = false;\n",
              "\n",
              "  const outputElement = document.getElementById(outputId);\n",
              "  outputElement.innerHTML = '';\n",
              "\n",
              "  const pickedPromise = new Promise((resolve) => {\n",
              "    inputElement.addEventListener('change', (e) => {\n",
              "      resolve(e.target.files);\n",
              "    });\n",
              "  });\n",
              "\n",
              "  const cancel = document.createElement('button');\n",
              "  inputElement.parentElement.appendChild(cancel);\n",
              "  cancel.textContent = 'Cancel upload';\n",
              "  const cancelPromise = new Promise((resolve) => {\n",
              "    cancel.onclick = () => {\n",
              "      resolve(null);\n",
              "    };\n",
              "  });\n",
              "\n",
              "  // Wait for the user to pick the files.\n",
              "  const files = yield {\n",
              "    promise: Promise.race([pickedPromise, cancelPromise]),\n",
              "    response: {\n",
              "      action: 'starting',\n",
              "    }\n",
              "  };\n",
              "\n",
              "  cancel.remove();\n",
              "\n",
              "  // Disable the input element since further picks are not allowed.\n",
              "  inputElement.disabled = true;\n",
              "\n",
              "  if (!files) {\n",
              "    return {\n",
              "      response: {\n",
              "        action: 'complete',\n",
              "      }\n",
              "    };\n",
              "  }\n",
              "\n",
              "  for (const file of files) {\n",
              "    const li = document.createElement('li');\n",
              "    li.append(span(file.name, {fontWeight: 'bold'}));\n",
              "    li.append(span(\n",
              "        `(${file.type || 'n/a'}) - ${file.size} bytes, ` +\n",
              "        `last modified: ${\n",
              "            file.lastModifiedDate ? file.lastModifiedDate.toLocaleDateString() :\n",
              "                                    'n/a'} - `));\n",
              "    const percent = span('0% done');\n",
              "    li.appendChild(percent);\n",
              "\n",
              "    outputElement.appendChild(li);\n",
              "\n",
              "    const fileDataPromise = new Promise((resolve) => {\n",
              "      const reader = new FileReader();\n",
              "      reader.onload = (e) => {\n",
              "        resolve(e.target.result);\n",
              "      };\n",
              "      reader.readAsArrayBuffer(file);\n",
              "    });\n",
              "    // Wait for the data to be ready.\n",
              "    let fileData = yield {\n",
              "      promise: fileDataPromise,\n",
              "      response: {\n",
              "        action: 'continue',\n",
              "      }\n",
              "    };\n",
              "\n",
              "    // Use a chunked sending to avoid message size limits. See b/62115660.\n",
              "    let position = 0;\n",
              "    do {\n",
              "      const length = Math.min(fileData.byteLength - position, MAX_PAYLOAD_SIZE);\n",
              "      const chunk = new Uint8Array(fileData, position, length);\n",
              "      position += length;\n",
              "\n",
              "      const base64 = btoa(String.fromCharCode.apply(null, chunk));\n",
              "      yield {\n",
              "        response: {\n",
              "          action: 'append',\n",
              "          file: file.name,\n",
              "          data: base64,\n",
              "        },\n",
              "      };\n",
              "\n",
              "      let percentDone = fileData.byteLength === 0 ?\n",
              "          100 :\n",
              "          Math.round((position / fileData.byteLength) * 100);\n",
              "      percent.textContent = `${percentDone}% done`;\n",
              "\n",
              "    } while (position < fileData.byteLength);\n",
              "  }\n",
              "\n",
              "  // All done.\n",
              "  yield {\n",
              "    response: {\n",
              "      action: 'complete',\n",
              "    }\n",
              "  };\n",
              "}\n",
              "\n",
              "scope.google = scope.google || {};\n",
              "scope.google.colab = scope.google.colab || {};\n",
              "scope.google.colab._files = {\n",
              "  _uploadFiles,\n",
              "  _uploadFilesContinue,\n",
              "};\n",
              "})(self);\n",
              "</script> "
            ]
          },
          "metadata": {}
        },
        {
          "output_type": "stream",
          "name": "stdout",
          "text": [
            "Saving internship.xlsx to internship (1).xlsx\n"
          ]
        }
      ]
    },
    {
      "cell_type": "code",
      "source": [
        "!pip install aiohttp aiodns cchardet beautifulsoup4 lxml pandas openpyxl"
      ],
      "metadata": {
        "colab": {
          "base_uri": "https://localhost:8080/"
        },
        "id": "9pQ4sC93RwrU",
        "outputId": "d9fbfaac-c970-4c0c-9cb5-a3dc84920641"
      },
      "execution_count": null,
      "outputs": [
        {
          "output_type": "stream",
          "name": "stdout",
          "text": [
            "Requirement already satisfied: aiohttp in /usr/local/lib/python3.11/dist-packages (3.12.15)\n",
            "Collecting aiodns\n",
            "  Downloading aiodns-3.5.0-py3-none-any.whl.metadata (5.8 kB)\n",
            "Collecting cchardet\n",
            "  Downloading cchardet-2.1.7.tar.gz (653 kB)\n",
            "\u001b[2K     \u001b[90m━━━━━━━━━━━━━━━━━━━━━━━━━━━━━━━━━━━━━━\u001b[0m \u001b[32m653.6/653.6 kB\u001b[0m \u001b[31m18.2 MB/s\u001b[0m eta \u001b[36m0:00:00\u001b[0m\n",
            "\u001b[?25h  Preparing metadata (setup.py) ... \u001b[?25l\u001b[?25hdone\n",
            "Requirement already satisfied: beautifulsoup4 in /usr/local/lib/python3.11/dist-packages (4.13.4)\n",
            "Requirement already satisfied: lxml in /usr/local/lib/python3.11/dist-packages (5.4.0)\n",
            "Requirement already satisfied: pandas in /usr/local/lib/python3.11/dist-packages (2.2.2)\n",
            "Requirement already satisfied: openpyxl in /usr/local/lib/python3.11/dist-packages (3.1.5)\n",
            "Requirement already satisfied: aiohappyeyeballs>=2.5.0 in /usr/local/lib/python3.11/dist-packages (from aiohttp) (2.6.1)\n",
            "Requirement already satisfied: aiosignal>=1.4.0 in /usr/local/lib/python3.11/dist-packages (from aiohttp) (1.4.0)\n",
            "Requirement already satisfied: attrs>=17.3.0 in /usr/local/lib/python3.11/dist-packages (from aiohttp) (25.3.0)\n",
            "Requirement already satisfied: frozenlist>=1.1.1 in /usr/local/lib/python3.11/dist-packages (from aiohttp) (1.7.0)\n",
            "Requirement already satisfied: multidict<7.0,>=4.5 in /usr/local/lib/python3.11/dist-packages (from aiohttp) (6.6.3)\n",
            "Requirement already satisfied: propcache>=0.2.0 in /usr/local/lib/python3.11/dist-packages (from aiohttp) (0.3.2)\n",
            "Requirement already satisfied: yarl<2.0,>=1.17.0 in /usr/local/lib/python3.11/dist-packages (from aiohttp) (1.20.1)\n",
            "Collecting pycares>=4.9.0 (from aiodns)\n",
            "  Downloading pycares-4.10.0-cp311-cp311-manylinux_2_28_x86_64.whl.metadata (4.3 kB)\n",
            "Requirement already satisfied: soupsieve>1.2 in /usr/local/lib/python3.11/dist-packages (from beautifulsoup4) (2.7)\n",
            "Requirement already satisfied: typing-extensions>=4.0.0 in /usr/local/lib/python3.11/dist-packages (from beautifulsoup4) (4.14.1)\n",
            "Requirement already satisfied: numpy>=1.23.2 in /usr/local/lib/python3.11/dist-packages (from pandas) (2.0.2)\n",
            "Requirement already satisfied: python-dateutil>=2.8.2 in /usr/local/lib/python3.11/dist-packages (from pandas) (2.9.0.post0)\n",
            "Requirement already satisfied: pytz>=2020.1 in /usr/local/lib/python3.11/dist-packages (from pandas) (2025.2)\n",
            "Requirement already satisfied: tzdata>=2022.7 in /usr/local/lib/python3.11/dist-packages (from pandas) (2025.2)\n",
            "Requirement already satisfied: et-xmlfile in /usr/local/lib/python3.11/dist-packages (from openpyxl) (2.0.0)\n",
            "Requirement already satisfied: cffi>=1.5.0 in /usr/local/lib/python3.11/dist-packages (from pycares>=4.9.0->aiodns) (1.17.1)\n",
            "Requirement already satisfied: six>=1.5 in /usr/local/lib/python3.11/dist-packages (from python-dateutil>=2.8.2->pandas) (1.17.0)\n",
            "Requirement already satisfied: idna>=2.0 in /usr/local/lib/python3.11/dist-packages (from yarl<2.0,>=1.17.0->aiohttp) (3.10)\n",
            "Requirement already satisfied: pycparser in /usr/local/lib/python3.11/dist-packages (from cffi>=1.5.0->pycares>=4.9.0->aiodns) (2.22)\n",
            "Downloading aiodns-3.5.0-py3-none-any.whl (8.1 kB)\n",
            "Downloading pycares-4.10.0-cp311-cp311-manylinux_2_28_x86_64.whl (643 kB)\n",
            "\u001b[2K   \u001b[90m━━━━━━━━━━━━━━━━━━━━━━━━━━━━━━━━━━━━━━━━\u001b[0m \u001b[32m644.0/644.0 kB\u001b[0m \u001b[31m46.3 MB/s\u001b[0m eta \u001b[36m0:00:00\u001b[0m\n",
            "\u001b[?25hBuilding wheels for collected packages: cchardet\n",
            "  Building wheel for cchardet (setup.py) ... \u001b[?25l\u001b[?25hdone\n",
            "  Created wheel for cchardet: filename=cchardet-2.1.7-cp311-cp311-linux_x86_64.whl size=295277 sha256=3afd146f98e199da58c874a6c6122b6eed69e24bc1bcf57ad684b6579532441c\n",
            "  Stored in directory: /root/.cache/pip/wheels/5e/37/0f/444b73ed86b6045e2c3cc9122401f064158f035f099a0a9e64\n",
            "Successfully built cchardet\n",
            "Installing collected packages: cchardet, pycares, aiodns\n",
            "Successfully installed aiodns-3.5.0 cchardet-2.1.7 pycares-4.10.0\n"
          ]
        }
      ]
    },
    {
      "cell_type": "code",
      "source": [
        "\n",
        "\n",
        "import os, re, asyncio, aiohttp, pandas as pd\n",
        "from urllib.parse import urljoin\n",
        "from bs4 import BeautifulSoup\n",
        "from aiohttp import ClientTimeout, TCPConnector\n",
        "import nest_asyncio\n",
        "nest_asyncio.apply()\n",
        "\n",
        "INPUT_XLSX = \"internship.xlsx\"\n",
        "SHEET_NAME = \"Sheet1\"\n",
        "OUTPUT_XLSX = \"internship_scraped.xlsx\"\n",
        "START_ROW = 0\n",
        "BATCH_COUNT = 800\n",
        "\n",
        "HEADERS = {\"User-Agent\": \"Mozilla/5.0\"}\n",
        "TIMEOUT = ClientTimeout(total=20)\n",
        "SEM_LIMIT = 32  # concurrent connections\n",
        "\n",
        "COLUMNS = [\n",
        "    \"Company Name\",\"Website URL\",\"Linkedin URL\",\"Careers Page URL\",\"Job listings page URL\",\"Provider\",\n",
        "    \"job post1 URL\",\"job post1 title\",\"job post1 location\",\"job post1 date\",\n",
        "    \"job post2 URL\",\"job post2 title\",\"job post2 location\",\"job post2 date\",\n",
        "    \"job post3 URL\",\"job post3 title\",\"job post3 location\",\"job post3 date\"\n",
        "]\n",
        "CAREERS_KEYWORDS = [\"career\",\"careers\",\"jobs\",\"join\"]\n",
        "ATS_PATTERNS = {\n",
        "    \"Personio\": \"personio.com\",\n",
        "    \"Teamtailor\": \"teamtailor.com\",\n",
        "    \"Zoho Recruit\": \"zohorecruit.com\",\n",
        "    \"Lever\": \"lever.co\",\n",
        "    \"Greenhouse\": \"greenhouse.io\",\n",
        "}\n",
        "\n",
        "async def safe_get(session, url):\n",
        "    try:\n",
        "        async with session.get(url) as r:\n",
        "            if r.status < 400:\n",
        "                return await r.text()\n",
        "    except:\n",
        "        return None\n",
        "    return None\n",
        "\n",
        "async def head_ok(session, url):\n",
        "    try:\n",
        "        async with session.head(url) as r:\n",
        "            return r.status < 400\n",
        "    except:\n",
        "        return False\n",
        "\n",
        "def find_careers(base_url, html):\n",
        "    soup = BeautifulSoup(html or \"\", \"lxml\")\n",
        "    for a in soup.select(\"a[href]\"):\n",
        "        href = a.get(\"href\",\"\").strip()\n",
        "        text = a.get_text(\" \", strip=True).lower()\n",
        "        if any(kw in href.lower() or kw in text for kw in CAREERS_KEYWORDS):\n",
        "            return href if href.startswith(\"http\") else urljoin(base_url, href)\n",
        "    return \"\"\n",
        "\n",
        "def detect_ats(url):\n",
        "    for name, patt in ATS_PATTERNS.items():\n",
        "        if url and patt in url:\n",
        "            return name\n",
        "    return \"Internal\" if url else \"\"\n",
        "\n",
        "def parse_jobs_from_listings(listings_url, html):\n",
        "    jobs=[]\n",
        "    soup = BeautifulSoup(html or \"\", \"lxml\")\n",
        "    for a in soup.select(\"a[href]\"):\n",
        "        title = a.get_text(\" \", strip=True)\n",
        "        if not title:\n",
        "            continue\n",
        "        if re.search(r\"(engineer|manager|developer|analyst|designer|specialist|intern|consultant|coordinator|technician)\", title, re.I):\n",
        "            href = a.get(\"href\")\n",
        "            if not href:\n",
        "                continue\n",
        "            job_url = href if href.startswith(\"http\") else urljoin(listings_url, href)\n",
        "            jobs.append({\"url\": job_url, \"title\": title, \"location\": \"\", \"date\": \"\"})\n",
        "            if len(jobs) >= 3:\n",
        "                break\n",
        "    return jobs\n",
        "\n",
        "async def process_company(session, name):\n",
        "    name = str(name).strip()\n",
        "    website, linkedin, careers, jobs_url, provider = \"\", \"\", \"\", \"\", \"\"\n",
        "    linkedin = f\"https://www.linkedin.com/company/{name.lower().replace(' ','-')}/\"\n",
        "\n",
        "    # guess domains in parallel heads\n",
        "    for tld in [\"com\",\"org\",\"io\",\"ai\",\"net\",\"co\"]:\n",
        "        test = f\"https://{name.lower().replace(' ','')}.{tld}\"\n",
        "        if await head_ok(session, test):\n",
        "            website = test\n",
        "            break\n",
        "\n",
        "    if website:\n",
        "        html = await safe_get(session, website)\n",
        "        if html:\n",
        "            careers = find_careers(website, html)\n",
        "\n",
        "    jobs_url = careers or website or \"\"\n",
        "    provider = detect_ats(jobs_url)\n",
        "\n",
        "    jobs=[]\n",
        "    if jobs_url:\n",
        "        listings_html = await safe_get(session, jobs_url)\n",
        "        if listings_html:\n",
        "            jobs = parse_jobs_from_listings(jobs_url, listings_html)\n",
        "\n",
        "    row = {\n",
        "        \"Company Name\": name,\n",
        "        \"Website URL\": website,\n",
        "        \"Linkedin URL\": linkedin,\n",
        "        \"Careers Page URL\": careers,\n",
        "        \"Job listings page URL\": jobs_url,\n",
        "        \"Provider\": provider\n",
        "    }\n",
        "    for i in range(3):\n",
        "        if i < len(jobs):\n",
        "            row[f\"job post{i+1} URL\"] = jobs[i][\"url\"]\n",
        "            row[f\"job post{i+1} title\"] = jobs[i][\"title\"]\n",
        "            row[f\"job post{i+1} location\"] = jobs[i][\"location\"]\n",
        "            row[f\"job post{i+1} date\"] = jobs[i][\"date\"]\n",
        "        else:\n",
        "            row[f\"job post{i+1} URL\"] = \"\"\n",
        "            row[f\"job post{i+1} title\"] = \"\"\n",
        "            row[f\"job post{i+1} location\"] = \"\"\n",
        "            row[f\"job post{i+1} date\"] = \"\"\n",
        "    return row\n",
        "\n",
        "async def run_batch(names):\n",
        "    connector = TCPConnector(limit_per_host=SEM_LIMIT, ssl=False)\n",
        "    async with aiohttp.ClientSession(headers=HEADERS, timeout=TIMEOUT, connector=connector) as session:\n",
        "        tasks = [asyncio.create_task(process_company(session, nm)) for nm in names]\n",
        "        return await asyncio.gather(*tasks)\n",
        "\n",
        "# Load companies\n",
        "df = pd.read_excel(INPUT_XLSX, sheet_name=SHEET_NAME, engine=\"openpyxl\")\n",
        "df = df[df[\"Company Name\"].notna()].reset_index(drop=True)\n",
        "names = list(df.iloc[START_ROW:START_ROW+BATCH_COUNT][\"Company Name\"])\n",
        "\n",
        "rows = asyncio.run(run_batch(names))\n",
        "out_df = pd.DataFrame(rows, columns=COLUMNS)\n",
        "\n",
        "# Append into single sheet\n",
        "if os.path.exists(OUTPUT_XLSX):\n",
        "    existing = pd.read_excel(OUTPUT_XLSX, sheet_name=\"Data\", engine=\"openpyxl\")\n",
        "    combined = pd.concat([existing, out_df], ignore_index=True)\n",
        "    combined.to_excel(OUTPUT_XLSX, sheet_name=\"Data\", index=False, engine=\"openpyxl\")\n",
        "else:\n",
        "    out_df.to_excel(OUTPUT_XLSX, sheet_name=\"Data\", index=False, engine=\"openpyxl\")\n",
        "\n",
        "print(f\"Added {len(out_df)} companies. Total now: {pd.read_excel(OUTPUT_XLSX, sheet_name='Data', engine='openpyxl').shape[0]}\")\n"
      ],
      "metadata": {
        "colab": {
          "base_uri": "https://localhost:8080/"
        },
        "id": "iXpexllIN_QJ",
        "outputId": "3fc9e66c-19aa-4035-a67f-2a982577ab47"
      },
      "execution_count": null,
      "outputs": [
        {
          "output_type": "stream",
          "name": "stdout",
          "text": [
            "Added 173 companies. Total now: 173\n"
          ]
        }
      ]
    },
    {
      "cell_type": "code",
      "source": [
        "from google.colab import files\n",
        "files.download(OUTPUT_XLSX)\n"
      ],
      "metadata": {
        "colab": {
          "base_uri": "https://localhost:8080/",
          "height": 17
        },
        "id": "7ewtFzASOHHc",
        "outputId": "3dd26523-3c80-4540-ad17-0fc06899a6c0"
      },
      "execution_count": null,
      "outputs": [
        {
          "output_type": "display_data",
          "data": {
            "text/plain": [
              "<IPython.core.display.Javascript object>"
            ],
            "application/javascript": [
              "\n",
              "    async function download(id, filename, size) {\n",
              "      if (!google.colab.kernel.accessAllowed) {\n",
              "        return;\n",
              "      }\n",
              "      const div = document.createElement('div');\n",
              "      const label = document.createElement('label');\n",
              "      label.textContent = `Downloading \"${filename}\": `;\n",
              "      div.appendChild(label);\n",
              "      const progress = document.createElement('progress');\n",
              "      progress.max = size;\n",
              "      div.appendChild(progress);\n",
              "      document.body.appendChild(div);\n",
              "\n",
              "      const buffers = [];\n",
              "      let downloaded = 0;\n",
              "\n",
              "      const channel = await google.colab.kernel.comms.open(id);\n",
              "      // Send a message to notify the kernel that we're ready.\n",
              "      channel.send({})\n",
              "\n",
              "      for await (const message of channel.messages) {\n",
              "        // Send a message to notify the kernel that we're ready.\n",
              "        channel.send({})\n",
              "        if (message.buffers) {\n",
              "          for (const buffer of message.buffers) {\n",
              "            buffers.push(buffer);\n",
              "            downloaded += buffer.byteLength;\n",
              "            progress.value = downloaded;\n",
              "          }\n",
              "        }\n",
              "      }\n",
              "      const blob = new Blob(buffers, {type: 'application/binary'});\n",
              "      const a = document.createElement('a');\n",
              "      a.href = window.URL.createObjectURL(blob);\n",
              "      a.download = filename;\n",
              "      div.appendChild(a);\n",
              "      a.click();\n",
              "      div.remove();\n",
              "    }\n",
              "  "
            ]
          },
          "metadata": {}
        },
        {
          "output_type": "display_data",
          "data": {
            "text/plain": [
              "<IPython.core.display.Javascript object>"
            ],
            "application/javascript": [
              "download(\"download_6a83efb1-b464-489d-adea-1864d02822a3\", \"internship_scraped.xlsx\", 21500)"
            ]
          },
          "metadata": {}
        }
      ]
    },
    {
      "cell_type": "code",
      "source": [
        "import pandas as pd\n",
        "\n",
        "# Load your scraped file\n",
        "df = pd.read_excel(\"internship_scraped.xlsx\", sheet_name=\"Data\", engine=\"openpyxl\")\n",
        "\n",
        "# Add Jobs Found Count column\n",
        "df[\"Jobs Found Count\"] = (\n",
        "    df[[\"job post1 title\", \"job post2 title\", \"job post3 title\"]]\n",
        "    .notna()\n",
        "    .sum(axis=1)\n",
        ")\n",
        "\n",
        "# Sort by Jobs Found Count (descending - most jobs on top)\n",
        "df = df.sort_values(by=\"Jobs Found Count\", ascending=False)\n",
        "\n",
        "# Save new file\n",
        "output_file = \"internship_scraped_sorted.xlsx\"\n",
        "with pd.ExcelWriter(output_file, engine=\"openpyxl\") as writer:\n",
        "    df.to_excel(writer, sheet_name=\"Data\", index=False)\n",
        "\n",
        "print(f\"✔ Saved sorted file as {output_file}\")\n"
      ],
      "metadata": {
        "colab": {
          "base_uri": "https://localhost:8080/"
        },
        "id": "6TFdeLVqZEZt",
        "outputId": "94384f9f-f8e0-4e6e-f7a2-165af0ccdd45"
      },
      "execution_count": null,
      "outputs": [
        {
          "output_type": "stream",
          "name": "stdout",
          "text": [
            "✔ Saved sorted file as internship_scraped_sorted.xlsx\n"
          ]
        }
      ]
    },
    {
      "cell_type": "code",
      "source": [
        "from google.colab import files\n",
        "files.download(\"internship_scraped_sorted.xlsx\")"
      ],
      "metadata": {
        "colab": {
          "base_uri": "https://localhost:8080/",
          "height": 17
        },
        "id": "XQxMmV1nZKCB",
        "outputId": "5c6ffab9-26c6-49d3-d655-7692ea1500c0"
      },
      "execution_count": null,
      "outputs": [
        {
          "output_type": "display_data",
          "data": {
            "text/plain": [
              "<IPython.core.display.Javascript object>"
            ],
            "application/javascript": [
              "\n",
              "    async function download(id, filename, size) {\n",
              "      if (!google.colab.kernel.accessAllowed) {\n",
              "        return;\n",
              "      }\n",
              "      const div = document.createElement('div');\n",
              "      const label = document.createElement('label');\n",
              "      label.textContent = `Downloading \"${filename}\": `;\n",
              "      div.appendChild(label);\n",
              "      const progress = document.createElement('progress');\n",
              "      progress.max = size;\n",
              "      div.appendChild(progress);\n",
              "      document.body.appendChild(div);\n",
              "\n",
              "      const buffers = [];\n",
              "      let downloaded = 0;\n",
              "\n",
              "      const channel = await google.colab.kernel.comms.open(id);\n",
              "      // Send a message to notify the kernel that we're ready.\n",
              "      channel.send({})\n",
              "\n",
              "      for await (const message of channel.messages) {\n",
              "        // Send a message to notify the kernel that we're ready.\n",
              "        channel.send({})\n",
              "        if (message.buffers) {\n",
              "          for (const buffer of message.buffers) {\n",
              "            buffers.push(buffer);\n",
              "            downloaded += buffer.byteLength;\n",
              "            progress.value = downloaded;\n",
              "          }\n",
              "        }\n",
              "      }\n",
              "      const blob = new Blob(buffers, {type: 'application/binary'});\n",
              "      const a = document.createElement('a');\n",
              "      a.href = window.URL.createObjectURL(blob);\n",
              "      a.download = filename;\n",
              "      div.appendChild(a);\n",
              "      a.click();\n",
              "      div.remove();\n",
              "    }\n",
              "  "
            ]
          },
          "metadata": {}
        },
        {
          "output_type": "display_data",
          "data": {
            "text/plain": [
              "<IPython.core.display.Javascript object>"
            ],
            "application/javascript": [
              "download(\"download_90efdd41-096a-42e3-85cf-7a85a1672db1\", \"internship_scraped_sorted.xlsx\", 21735)"
            ]
          },
          "metadata": {}
        }
      ]
    },
    {
      "cell_type": "code",
      "source": [],
      "metadata": {
        "id": "0ZGqBHJ_ZMXH"
      },
      "execution_count": null,
      "outputs": []
    }
  ]
}